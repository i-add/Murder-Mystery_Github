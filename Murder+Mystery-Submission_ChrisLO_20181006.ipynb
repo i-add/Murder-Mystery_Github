{
 "cells": [
  {
   "cell_type": "markdown",
   "metadata": {},
   "source": [
    "# Preamble: A Brand new Jay\n",
    "\n",
    "After an eventful season on season 8 of *A Brand New Jay*, the 3 remaining contestants were invited to Jay Stacksby's private island for the last three episodes. When the day of filming the finale came Mr. Stacksby was found with one of his Professional Series 8-inch Chef Knives plunged through his heart! After the initial investigation highlighted that the film crew all lived in a separate house on the other side of the island, it was concluded that only the three contestants were near enough to Stacksby in order to commit a crime. At the scene of the crime, a letter was left. Here are the contents of that letter:\n",
    "\n",
    "> You may call me heartless, a killer, a monster, a murderer, but I'm still NOTHING compared to the villian that Jay was. This whole contest was a sham, an elaborate plot to shame the contestants and feed Jay's massive, massive ego. SURE you think you know him! You've seen him smiling for the cameras, laughing, joking, telling stories, waving his money around like a prop but off camera he was a sinister beast, a cruel cruel taskmaster, he treated all of us like slaves, like cattle, like animals! Do you remember Lindsay, she was the first to go, he called her such horrible things that she cried all night, keeping up all up, crying, crying, and more crying, he broke her with his words. I miss my former cast members, all of them very much. And we had to live with him, live in his home, live in his power, deal with his crazy demands. AND FOR WHAT! DID YOU KNOW THAT THE PRIZE ISN'T REAL? He never intended to marry one of us! The carrot on the stick was gone, all that was left was stick, he told us last night that we were all a terrible terrible disappointment and none of us would ever amount to anything, and that regardless of who won the contest he would never speak to any of us again! It's definitely the things like this you can feel in your gut how wrong he is! Well I showed him, he got what he deserved all right, I showed him, I showed him the person I am! I wasn't going to be pushed around any longer, and I wasn't going to let him go on pretending that he was some saint when all he was was a sick sick twisted man who deserved every bit of what he got. The fans need to know, Jay Stacksby is a vile amalgamation of all things evil and bad and the world is a better place without him.\n",
    "\n",
    "Pretty sinister stuff! Luckily, in addition to this bold-faced admission, we have the introduction letters of the three contestants. Maybe there is a way to use this information to determine who the author of this murder letter is?\n",
    "\n",
    "Myrtle Beech's introduction letter:\n",
    "> Salutations. My name? Myrtle. Myrtle Beech. I am a woman of simple tastes. I enjoy reading, thinking, and doing my taxes. I entered this competition because I want a serious relationship. I want a commitment. The last man I dated was too whimsical. He wanted to go on dates that had no plan. No end goal. Sometimes we would just end up wandering the streets after dinner. He called it a \"walk\". A \"walk\" with no destination. Can you imagine? I like every action I take to have a measurable effect. When I see a movie, I like to walk away with insights that I did not have before. When I take a bike ride, there better be a worthy destination at the end of the bike path. Jay seems frivolous at times. This worries me. However, it is my staunch belief that one does not make and keep money without having a modicum of discipline. As such, I am hopeful. I will now list three things I cannot live without. Water. Emery boards. Dogs. Thank you for the opportunity to introduce myself. I look forward to the competition. \n",
    "\n",
    "Lily Trebuchet's introduction letter:\n",
    "> Hi, I'm Lily Trebuchet from East Egg, Long Island. I love cats, hiking, and curling up under a warm blanket with a book. So they gave this little questionnaire to use for our bios so lets get started. What are some of my least favorite household chores? Dishes, oh yes it's definitely the dishes, I just hate doing them, don't you? Who is your favorite actor and why? Hmm, that's a hard one, but I think recently I'll have to go with Michael B. Jordan, every bit of that man is handsome, HANDSOME! Do you remember seeing him shirtless? I can't believe what he does for the cameras! Okay okay next question, what is your perfect date? Well it starts with a nice dinner at a delicious but small restaurant, you know like one of those places where the owner is in the back and comes out to talk to you and ask you how your meal was. My favorite form of art? Another hard one, but I think I'll have to go with music, music you can feel in your whole body and it is electrifying and best of all, you can dance to it! Okay final question, let's see, What are three things you cannot live without? Well first off, my beautiful, beautiful cat Jerry, he is my heart and spirit animal. Second is pasta, definitely pasta, and the third I think is my family, I love all of them very much and they support me in everything I do. I know Jay Stacksby is a handsome man and all of us want to be the first to walk down the aisle with him, but I think he might truly be the one for me. Okay that's it for the bio, I hope you have fun watching the show! \n",
    "\n",
    "Gregg T Fishy's introduction letter:\n",
    "\n",
    "> A most good day to you all, I am Gregg T Fishy, of the Fishy Enterprise fortune. I am 37 years young, an adventurous spirit and I've never lost my sense of childlike wonder. I do love to be in the backyard gardening and I have the most extraordinary time when I'm fishing. Fishing for what, you might find yourself asking? Why, I happen to always be fishing for compliments of course! I have a stunning pair of radiant blue eyes that will pierce the soul of anyone who dare gaze upon my countenance. I quite enjoy going on long jaunts through garden paths and short walks through greenhouses. I hope that Jay will be as absolutely interesting as he appears on the television, I find that he has some of the most curious tastes in style and humor. When I'm out and about I quite enjoy hearing tales that instill in my heart of hearts the fascination that beguiles my every day life, every fiber of my being scintillates and vascillates with extreme pleasure during one of these charming anecdotes and significantly pleases my beautiful personage. I cannot wait to enjoy being on the television program A Jay To Remember, it certainly seems like a grand time to explore life and love."
   ]
  },
  {
   "cell_type": "markdown",
   "metadata": {},
   "source": [
    "## Saving The Different Examples as Variables\n",
    "\n",
    "First let's create variables to hold the text data in! Save the muder note as a string in a variable called `murder_note`. Save Lily Trebuchet's introduction into `lily_trebuchet_intro`. Save Myrtle Beech's introduction into `myrtle_beech_intro`. Save Gregg T Fishy's introduction into `gregg_t_fishy_intro`."
   ]
  },
  {
   "cell_type": "code",
   "execution_count": 1,
   "metadata": {},
   "outputs": [],
   "source": [
    "murder_note = \"You may call me heartless, a killer, a monster, a murderer, but I'm still NOTHING compared to the villian that Jay was. This whole contest was a sham, an elaborate plot to shame the contestants and feed Jay's massive, massive ego. SURE you think you know him! You've seen him smiling for the cameras, laughing, joking, telling stories, waving his money around like a prop but off camera he was a sinister beast, a cruel cruel taskmaster, he treated all of us like slaves, like cattle, like animals! Do you remember Lindsay, she was the first to go, he called her such horrible things that she cried all night, keeping up all up, crying, crying, and more crying, he broke her with his words. I miss my former cast members, all of them very much. And we had to live with him, live in his home, live in his power, deal with his crazy demands. AND FOR WHAT! DID YOU KNOW THAT THE PRIZE ISN'T REAL? He never intended to marry one of us! The carrot on the stick was gone, all that was left was stick, he told us last night that we were all a terrible terrible disappointment and none of us would ever amount to anything, and that regardless of who won the contest he would never speak to any of us again! It's definitely the things like this you can feel in your gut how wrong he is! Well I showed him, he got what he deserved all right, I showed him, I showed him the person I am! I wasn't going to be pushed around any longer, and I wasn't going to let him go on pretending that he was some saint when all he was was a sick sick twisted man who deserved every bit of what he got. The fans need to know, Jay Stacksby is a vile amalgamation of all things evil and bad and the world is a better place without him.\"\n",
    "lily_trebuchet_intro = \"Hi, I'm Lily Trebuchet from East Egg, Long Island. I love cats, hiking, and curling up under a warm blanket with a book. So they gave this little questionnaire to use for our bios so lets get started. What are some of my least favorite household chores? Dishes, oh yes it's definitely the dishes, I just hate doing them, don't you? Who is your favorite actor and why? Hmm, that's a hard one, but I think recently I'll have to go with Michael B. Jordan, every bit of that man is handsome, HANDSOME! Do you remember seeing him shirtless? I can't believe what he does for the cameras! Okay okay next question, what is your perfect date? Well it starts with a nice dinner at a delicious but small restaurant, you know like one of those places where the owner is in the back and comes out to talk to you and ask you how your meal was. My favorite form of art? Another hard one, but I think I'll have to go with music, music you can feel in your whole body and it is electrifying and best of all, you can dance to it! Okay final question, let's see, What are three things you cannot live without? Well first off, my beautiful, beautiful cat Jerry, he is my heart and spirit animal. Second is pasta, definitely pasta, and the third I think is my family, I love all of them very much and they support me in everything I do. I know Jay Stacksby is a handsome man and all of us want to be the first to walk down the aisle with him, but I think he might truly be the one for me. Okay that's it for the bio, I hope you have fun watching the show!\"\n",
    "myrtle_beech_intro = \"Salutations. My name? Myrtle. Myrtle Beech. I am a woman of simple tastes. I enjoy reading, thinking, and doing my taxes. I entered this competition because I want a serious relationship. I want a commitment. The last man I dated was too whimsical. He wanted to go on dates that had no plan. No end goal. Sometimes we would just end up wandering the streets after dinner. He called it a \\\"walk\\\". A \\\"walk\\\" with no destination. Can you imagine? I like every action I take to have a measurable effect. When I see a movie, I like to walk away with insights that I did not have before. When I take a bike ride, there better be a worthy destination at the end of the bike path. Jay seems frivolous at times. This worries me. However, it is my staunch belief that one does not make and keep money without having a modicum of discipline. As such, I am hopeful. I will now list three things I cannot live without. Water. Emery boards. Dogs. Thank you for the opportunity to introduce myself. I look forward to the competition.\"\n",
    "gregg_t_fishy_intro = \"A most good day to you all, I am Gregg T Fishy, of the Fishy Enterprise fortune. I am 37 years young, an adventurous spirit and I've never lost my sense of childlike wonder. I do love to be in the backyard gardening and I have the most extraordinary time when I'm fishing. Fishing for what, you might find yourself asking? Why, I happen to always be fishing for compliments of course! I have a stunning pair of radiant blue eyes that will pierce the soul of anyone who dare gaze upon my countenance. I quite enjoy going on long jaunts through garden paths and short walks through greenhouses. I hope that Jay will be as absolutely interesting as he appears on the television, I find that he has some of the most curious tastes in style and humor. When I'm out and about I quite enjoy hearing tales that instill in my heart of hearts the fascination that beguiles my every day life, every fiber of my being scintillates and vascillates with extreme pleasure during one of these charming anecdotes and significantly pleases my beautiful personage. I cannot wait to enjoy being on the television program A Jay To Remember, it certainly seems like a grand time to explore life and love.\"\n"
   ]
  },
  {
   "cell_type": "markdown",
   "metadata": {},
   "source": [
    "## The First Indicator: Sentence Length\n",
    "\n",
    "Perhaps some meaningful data can first be gleaned from these text examples if we measure how long the average sentence length is. Different authors have different patterns of written speech, so this could be very useful in tracking down the killer.\n",
    "\n",
    "Write a function `get_average_sentence_length` that takes some `text` as an argument. This function should return the average length of a sentence in the text.\n",
    "\n",
    "Hint (highlight this hint in order to reveal it): \n",
    "<font color=\"white\">Use your knowledge of _string methods_ to create a list of all of the sentences in a text, called **sentences_in_text**. \n",
    "Further break up each **sentences_in_text** into a list of words and save the _length_ of that list of words to a new list that contains all the sentence lengths, called **sentence_lengths**. Take the average of all of the sentence lengths by adding them all together and dividing by the number of sentences (which should be the same as the length of the **sentence_lengths**).\n",
    "\n",
    "Remember sentences can end with more than one kind of punctuation, you might find it easiest to use **.replace()** so you only have to split on one punctuation mark. Remember **.replace()** doesn't modify the string itself, it returns a new string!</font>"
   ]
  },
  {
   "cell_type": "code",
   "execution_count": 2,
   "metadata": {},
   "outputs": [],
   "source": [
    "def get_average_sentence_length(text):\n",
    "  text = text.replace('!', '.').replace('?', '.')   #1 Replace \"!\" & \"?\" with \".\"\n",
    "  sentences_in_text = text.split(\".\")   #2 Split sentences_in_text\n",
    "  #print(sentences_in_text)   #for testing\n",
    "  \n",
    "  sentence_in_text_words = []   #3 Find sentence_in_text_words\n",
    "  for i in range(0, len(sentences_in_text)-1):\n",
    "    each_line = sentences_in_text[i].split()\n",
    "    sentence_in_text_words.append(each_line)\n",
    "  #print(sentence_in_text_words)   #for testing\n",
    "  \n",
    "  sentence_lengths = []   #4 Find sentence_lengths\n",
    "  for i in range(0, len(sentence_in_text_words)):\n",
    "    each_length = len(sentence_in_text_words[i])\n",
    "    sentence_lengths.append(each_length)\n",
    "  #print(len(sentence_lengths))   #for testing\n",
    "  #print(sentence_lengths)   #for testing\n",
    "\n",
    "  total_words = 0    #Find total_words\n",
    "  for number in sentence_lengths:\n",
    "    total_words += number\n",
    "  #print(total_words)\n",
    "\n",
    "  average_sentence_length = total_words / (len(sentence_lengths))   #5 Compute average_sentence_lengths\n",
    "  return average_sentence_length"
   ]
  },
  {
   "cell_type": "code",
   "execution_count": 3,
   "metadata": {},
   "outputs": [
    {
     "name": "stdout",
     "output_type": "stream",
     "text": [
      "Avg sentence length of Murderer is 22.07 words.\n",
      "Avg sentence length of Lily is 15.84 words.\n",
      "Avg sentence length of Myrtle is 6.75 words.\n",
      "Avg sentence length of Gregg is 21.30 words.\n"
     ]
    }
   ],
   "source": [
    "#test\n",
    "author = [\"murderer\", \"lily\", \"myrtle\", \"gregg\"]\n",
    "text = [murder_note, lily_trebuchet_intro, myrtle_beech_intro, gregg_t_fishy_intro]\n",
    "for i in range(0,len(text)):\n",
    "  a = author[i]\n",
    "  x = \"{0:.2f}\".format(get_average_sentence_length(text[i]))\n",
    "  print(\"Avg sentence length of \" + str(a).title() + \" is \" + str(x) + \" words.\")"
   ]
  },
  {
   "cell_type": "markdown",
   "metadata": {},
   "source": [
    "## Creating The Definition for Our Model\n",
    "\n",
    "Now that we have a metric we want to save and data that is coupled with that metric, it might be time to create our data type. Let's define a class called `TextSample` with a constructor. The constructor should take two arguments: `text` and `author`. `text` should be saved as `self.raw_text`. Call `get_average_sentence_length` with the raw text and save it to `self.average_sentence_length`. You should save the author of the text as `self.author`.\n",
    "\n",
    "Additionally, define a string representation for the model. If you print a `TextSample` it should render:\n",
    " - The author's name\n",
    " - The average sentence length\n",
    " \n",
    "This will be your main class for the problem at hand. All later instruction to update `TextSample` should be done in the code block below. After updating `TextSample`, click on the `Cell` option in the Jupyter Notebook main menu above, then click `Run All` to rerun the cells from top to bottom. If you need to restart your Jupyter Notebook either run the cells below first or move the `TextSample` class definition & instantiation cells to the bottom."
   ]
  },
  {
   "cell_type": "code",
   "execution_count": 37,
   "metadata": {},
   "outputs": [],
   "source": [
    "class TextSample:\n",
    "  x = get_average_sentence_length(murder_note)  \n",
    "\n",
    "  def __init__(self, text, author):\n",
    "    self.raw_text = text\n",
    "    self.author = author\n",
    "    self.average_sentence_length = get_average_sentence_length(text)\n",
    "    #self.prepared_text = prepared_text(text)   #cleans text for analysis\n",
    "    #self.word_count_frequency = build_frequency_table(prepared_text(text))   #{counts frequency of words in each text sample}\n",
    "    #self.ngram_frequency = build_frequency_table(ngram_creator(prepared_text(text)))  #{counts frequency of ngams in each text sample}\n",
    "    #self.similarity_score = find_text_similarity(x, get_average_sentence_length(text))\n",
    "        \n",
    "  def __repr__(self):\n",
    "    return \"Author name is {} with an average sentence length of {} words.\".format(self.author.title(), \"{0:.2f}\".format(self.average_sentence_length))"
   ]
  },
  {
   "cell_type": "markdown",
   "metadata": {},
   "source": [
    "### Creating our TextSample Instances\n",
    "\n",
    "Now create a `TextSample` object for each of the samples of text that we have.\n",
    " - `murderer_sample` for the murderer's note.\n",
    " - `lily_sample` for Lily Trebuchet's note.\n",
    " - `myrtle_sample` for Myrtle Beech's note.\n",
    " - `gregg_sample` for Gregg T Fishy's note.\n",
    " \n",
    "Print out each one after instantiating them."
   ]
  },
  {
   "cell_type": "code",
   "execution_count": 38,
   "metadata": {},
   "outputs": [],
   "source": [
    "murderer_sample = TextSample(murder_note, \"murderer\")\n",
    "lily_sample = TextSample(lily_trebuchet_intro, \"lily\")\n",
    "myrtle_sample = TextSample(myrtle_beech_intro, \"myrtle\")\n",
    "gregg_sample = TextSample(gregg_t_fishy_intro, \"gregg\")"
   ]
  },
  {
   "cell_type": "code",
   "execution_count": 39,
   "metadata": {},
   "outputs": [
    {
     "data": {
      "text/plain": [
       "Author name is Murderer with an average sentence length of 22.07 words."
      ]
     },
     "execution_count": 39,
     "metadata": {},
     "output_type": "execute_result"
    }
   ],
   "source": [
    "murderer_sample"
   ]
  },
  {
   "cell_type": "code",
   "execution_count": 40,
   "metadata": {},
   "outputs": [
    {
     "data": {
      "text/plain": [
       "Author name is Lily with an average sentence length of 15.84 words."
      ]
     },
     "execution_count": 40,
     "metadata": {},
     "output_type": "execute_result"
    }
   ],
   "source": [
    "lily_sample"
   ]
  },
  {
   "cell_type": "code",
   "execution_count": 41,
   "metadata": {},
   "outputs": [
    {
     "data": {
      "text/plain": [
       "Author name is Myrtle with an average sentence length of 6.75 words."
      ]
     },
     "execution_count": 41,
     "metadata": {},
     "output_type": "execute_result"
    }
   ],
   "source": [
    "myrtle_sample"
   ]
  },
  {
   "cell_type": "code",
   "execution_count": 42,
   "metadata": {},
   "outputs": [
    {
     "data": {
      "text/plain": [
       "Author name is Gregg with an average sentence length of 21.30 words."
      ]
     },
     "execution_count": 42,
     "metadata": {},
     "output_type": "execute_result"
    }
   ],
   "source": [
    "gregg_sample"
   ]
  },
  {
   "cell_type": "markdown",
   "metadata": {},
   "source": [
    "## Cleaning Our Data\n",
    "\n",
    "We want to compare the word choice and usage between the samples, but sentences make our text data fairly messy. In order to analyze the different messages fairly, we'll need to remove all the punctuation and uppercase letters from the samples.\n",
    "\n",
    "Create a function called `prepare_text` that takes a single parameter `text`, makes the text entirely lowercase, removes all the punctuation and returns a list of the words in the text in order.\n",
    "\n",
    "For example: `\"Where did you go, friend? We nearly saw each other.\"` would become `['where', 'did', 'you', 'go', 'friend', 'we', 'nearly', 'saw', 'each', 'other']`."
   ]
  },
  {
   "cell_type": "code",
   "execution_count": 11,
   "metadata": {},
   "outputs": [],
   "source": [
    "def prepared_text(text):\n",
    "  wordstring = str(text.lower().replace(',','').replace('.','').replace('!','').replace('?','').replace('\"',''))\n",
    "  text = wordstring.split()   #returns a list of the words in the text in order\n",
    "  return text"
   ]
  },
  {
   "cell_type": "code",
   "execution_count": 46,
   "metadata": {},
   "outputs": [
    {
     "name": "stdout",
     "output_type": "stream",
     "text": [
      "['hi', \"i'm\", 'lily', 'trebuchet', 'from', 'east', 'egg', 'long', 'island', 'i', 'love', 'cats', 'hiking', 'and', 'curling', 'up', 'under', 'a', 'warm', 'blanket', 'with', 'a', 'book', 'so', 'they', 'gave', 'this', 'little', 'questionnaire', 'to', 'use', 'for', 'our', 'bios', 'so', 'lets', 'get', 'started', 'what', 'are', 'some', 'of', 'my', 'least', 'favorite', 'household', 'chores', 'dishes', 'oh', 'yes', \"it's\", 'definitely', 'the', 'dishes', 'i', 'just', 'hate', 'doing', 'them', \"don't\", 'you', 'who', 'is', 'your', 'favorite', 'actor', 'and', 'why', 'hmm', \"that's\", 'a', 'hard', 'one', 'but', 'i', 'think', 'recently', \"i'll\", 'have', 'to', 'go', 'with', 'michael', 'b', 'jordan', 'every', 'bit', 'of', 'that', 'man', 'is', 'handsome', 'handsome', 'do', 'you', 'remember', 'seeing', 'him', 'shirtless', 'i', \"can't\", 'believe', 'what', 'he', 'does', 'for', 'the', 'cameras', 'okay', 'okay', 'next', 'question', 'what', 'is', 'your', 'perfect', 'date', 'well', 'it', 'starts', 'with', 'a', 'nice', 'dinner', 'at', 'a', 'delicious', 'but', 'small', 'restaurant', 'you', 'know', 'like', 'one', 'of', 'those', 'places', 'where', 'the', 'owner', 'is', 'in', 'the', 'back', 'and', 'comes', 'out', 'to', 'talk', 'to', 'you', 'and', 'ask', 'you', 'how', 'your', 'meal', 'was', 'my', 'favorite', 'form', 'of', 'art', 'another', 'hard', 'one', 'but', 'i', 'think', \"i'll\", 'have', 'to', 'go', 'with', 'music', 'music', 'you', 'can', 'feel', 'in', 'your', 'whole', 'body', 'and', 'it', 'is', 'electrifying', 'and', 'best', 'of', 'all', 'you', 'can', 'dance', 'to', 'it', 'okay', 'final', 'question', \"let's\", 'see', 'what', 'are', 'three', 'things', 'you', 'cannot', 'live', 'without', 'well', 'first', 'off', 'my', 'beautiful', 'beautiful', 'cat', 'jerry', 'he', 'is', 'my', 'heart', 'and', 'spirit', 'animal', 'second', 'is', 'pasta', 'definitely', 'pasta', 'and', 'the', 'third', 'i', 'think', 'is', 'my', 'family', 'i', 'love', 'all', 'of', 'them', 'very', 'much', 'and', 'they', 'support', 'me', 'in', 'everything', 'i', 'do', 'i', 'know', 'jay', 'stacksby', 'is', 'a', 'handsome', 'man', 'and', 'all', 'of', 'us', 'want', 'to', 'be', 'the', 'first', 'to', 'walk', 'down', 'the', 'aisle', 'with', 'him', 'but', 'i', 'think', 'he', 'might', 'truly', 'be', 'the', 'one', 'for', 'me', 'okay', \"that's\", 'it', 'for', 'the', 'bio', 'i', 'hope', 'you', 'have', 'fun', 'watching', 'the', 'show']\n"
     ]
    }
   ],
   "source": [
    "text = lily_trebuchet_intro\n",
    "print(prepared_text(text))  #test function"
   ]
  },
  {
   "cell_type": "markdown",
   "metadata": {},
   "source": [
    "Update the constructor for `TextSample` to save the prepared text as `self.prepared_text`."
   ]
  },
  {
   "cell_type": "code",
   "execution_count": 47,
   "metadata": {},
   "outputs": [],
   "source": [
    "#Updated TextSample with prepared_text constructor\n",
    "class TextSample:\n",
    "  x = get_average_sentence_length(murder_note)  \n",
    "\n",
    "  def __init__(self, text, author):\n",
    "    self.raw_text = text\n",
    "    self.author = author\n",
    "    self.average_sentence_length = get_average_sentence_length(text)\n",
    "    self.prepared_text = prepared_text(text)   #cleans text for analysis\n",
    "    #self.word_count_frequency = build_frequency_table(prepared_text(text))   #{counts frequency of words in each text sample}\n",
    "    #self.ngram_frequency = build_frequency_table(ngram_creator(prepared_text(text)))  #{counts frequency of ngams in each text sample}\n",
    "    #self.similarity_score = find_text_similarity(x, get_average_sentence_length(text))\n",
    "        \n",
    "  def __repr__(self):\n",
    "    return \"Author name is {} with an average sentence length of {} words.\".format(self.author.title(), \"{0:.2f}\".format(self.average_sentence_length))"
   ]
  },
  {
   "cell_type": "markdown",
   "metadata": {},
   "source": [
    "## Building A Frequency Table\n",
    "\n",
    "Now we want to see which words were most frequently used in each of the samples. Create a function called `build_frequency_table`. It takes in a list called `corpus` and creates a dictionary called `frequency_table`. For every element in `corpus` the value `frequency_table[element]` should be equal to the number of times that element appears in `corpus`. For example the input `['do', 'you', 'see', 'what', 'i', 'see']` would create the frequency table `{'what': 1, 'you': 1, 'see' 2, 'i': 1}`."
   ]
  },
  {
   "cell_type": "code",
   "execution_count": 48,
   "metadata": {},
   "outputs": [],
   "source": [
    "def build_frequency_table(corpus):\n",
    "  wordfreq = [corpus.count(w) for w in corpus]\n",
    "  frequency_table = {key:value for key, value in zip(corpus, wordfreq)}\n",
    "  return frequency_table"
   ]
  },
  {
   "cell_type": "code",
   "execution_count": 49,
   "metadata": {},
   "outputs": [
    {
     "name": "stdout",
     "output_type": "stream",
     "text": [
      "{'hi': 1, \"i'm\": 1, 'lily': 1, 'trebuchet': 1, 'from': 1, 'east': 1, 'egg': 1, 'long': 1, 'island': 1, 'i': 11, 'love': 2, 'cats': 1, 'hiking': 1, 'and': 10, 'curling': 1, 'up': 1, 'under': 1, 'a': 6, 'warm': 1, 'blanket': 1, 'with': 5, 'book': 1, 'so': 2, 'they': 2, 'gave': 1, 'this': 1, 'little': 1, 'questionnaire': 1, 'to': 8, 'use': 1, 'for': 4, 'our': 1, 'bios': 1, 'lets': 1, 'get': 1, 'started': 1, 'what': 4, 'are': 2, 'some': 1, 'of': 7, 'my': 5, 'least': 1, 'favorite': 3, 'household': 1, 'chores': 1, 'dishes': 2, 'oh': 1, 'yes': 1, \"it's\": 1, 'definitely': 2, 'the': 10, 'just': 1, 'hate': 1, 'doing': 1, 'them': 2, \"don't\": 1, 'you': 9, 'who': 1, 'is': 9, 'your': 4, 'actor': 1, 'why': 1, 'hmm': 1, \"that's\": 2, 'hard': 2, 'one': 4, 'but': 4, 'think': 4, 'recently': 1, \"i'll\": 2, 'have': 3, 'go': 2, 'michael': 1, 'b': 1, 'jordan': 1, 'every': 1, 'bit': 1, 'that': 1, 'man': 2, 'handsome': 3, 'do': 2, 'remember': 1, 'seeing': 1, 'him': 2, 'shirtless': 1, \"can't\": 1, 'believe': 1, 'he': 3, 'does': 1, 'cameras': 1, 'okay': 4, 'next': 1, 'question': 2, 'perfect': 1, 'date': 1, 'well': 2, 'it': 4, 'starts': 1, 'nice': 1, 'dinner': 1, 'at': 1, 'delicious': 1, 'small': 1, 'restaurant': 1, 'know': 2, 'like': 1, 'those': 1, 'places': 1, 'where': 1, 'owner': 1, 'in': 3, 'back': 1, 'comes': 1, 'out': 1, 'talk': 1, 'ask': 1, 'how': 1, 'meal': 1, 'was': 1, 'form': 1, 'art': 1, 'another': 1, 'music': 2, 'can': 2, 'feel': 1, 'whole': 1, 'body': 1, 'electrifying': 1, 'best': 1, 'all': 3, 'dance': 1, 'final': 1, \"let's\": 1, 'see': 1, 'three': 1, 'things': 1, 'cannot': 1, 'live': 1, 'without': 1, 'first': 2, 'off': 1, 'beautiful': 2, 'cat': 1, 'jerry': 1, 'heart': 1, 'spirit': 1, 'animal': 1, 'second': 1, 'pasta': 2, 'third': 1, 'family': 1, 'very': 1, 'much': 1, 'support': 1, 'me': 2, 'everything': 1, 'jay': 1, 'stacksby': 1, 'us': 1, 'want': 1, 'be': 2, 'walk': 1, 'down': 1, 'aisle': 1, 'might': 1, 'truly': 1, 'bio': 1, 'hope': 1, 'fun': 1, 'watching': 1, 'show': 1}\n"
     ]
    }
   ],
   "source": [
    "corpus = prepared_text(text)   #corpus as a list\n",
    "print(build_frequency_table(corpus))   #test function"
   ]
  },
  {
   "cell_type": "markdown",
   "metadata": {},
   "source": [
    "## The Second Indicator: Favorite Words\n",
    "\n",
    "Use `build_frequency_table` with the prepared text to create a frequency table that counts how frequently all the words in each text sample appears. Call these functions in the constructor for `TextSample` and assign the word frequency table to a value called `self.word_count_frequency`."
   ]
  },
  {
   "cell_type": "code",
   "execution_count": 50,
   "metadata": {},
   "outputs": [],
   "source": [
    "#Updated TextSample with word count frequency constructor\n",
    "class TextSample:\n",
    "  x = get_average_sentence_length(murder_note)  \n",
    "\n",
    "  def __init__(self, text, author):\n",
    "    self.raw_text = text\n",
    "    self.author = author\n",
    "    self.average_sentence_length = get_average_sentence_length(text)\n",
    "    self.prepared_text = prepared_text(text)   #cleans text for analysis\n",
    "    self.word_count_frequency = build_frequency_table(prepared_text(text))   #{counts frequency of words in each text sample}\n",
    "    #self.ngram_frequency = build_frequency_table(ngram_creator(prepared_text(text)))  #{counts frequency of ngams in each text sample}\n",
    "    #self.similarity_score = find_text_similarity(x, get_average_sentence_length(text))\n",
    "        \n",
    "  def __repr__(self):\n",
    "    return \"Author name is {} with an average sentence length of {} words.\".format(self.author.title(), \"{0:.2f}\".format(self.average_sentence_length))"
   ]
  },
  {
   "cell_type": "markdown",
   "metadata": {},
   "source": [
    "## The Third Indicator: N-Grams\n",
    "\n",
    "An <a href='https://en.wikipedia.org/wiki/N-gram' target=\"_blank\">n-gram</a> is a text analysis technique used for pattern recognition and applicable throughout lingusitics. We're going to use n-grams to find who uses similar word-pairs to the murderer, and we think it's going to make our evidence strong enough to conclusively find the killer.\n",
    "\n",
    "Create a function called `ngram_creator` that takes a parameter `text_list`, a treated in-order list of the words in a text sample. `ngram_creator` should return a list of all adjacent pairs of words, styled as strings with a space in the center.\n",
    "\n",
    "For instance, calling `ngram_creator` with the input `['what', 'in', 'the', 'world', 'is', 'going', 'on']`\n",
    "Should produce the output `['what in', 'in the', 'the world', 'world is', 'is going', 'going on']`.\n",
    "\n",
    "These are two-word n-grams."
   ]
  },
  {
   "cell_type": "code",
   "execution_count": 51,
   "metadata": {},
   "outputs": [],
   "source": [
    "text_list = prepared_text(text)\n",
    "\n",
    "def ngram_creator(text_list):\n",
    "  ngram = []  \n",
    "  for i in range(len(text_list) - 1):\n",
    "    ngram += [text_list[i] + \" \" + text_list[i+1] ]\n",
    "  return ngram"
   ]
  },
  {
   "cell_type": "code",
   "execution_count": 52,
   "metadata": {},
   "outputs": [
    {
     "name": "stdout",
     "output_type": "stream",
     "text": [
      "[\"hi i'm\", \"i'm lily\", 'lily trebuchet', 'trebuchet from', 'from east', 'east egg', 'egg long', 'long island', 'island i', 'i love', 'love cats', 'cats hiking', 'hiking and', 'and curling', 'curling up', 'up under', 'under a', 'a warm', 'warm blanket', 'blanket with', 'with a', 'a book', 'book so', 'so they', 'they gave', 'gave this', 'this little', 'little questionnaire', 'questionnaire to', 'to use', 'use for', 'for our', 'our bios', 'bios so', 'so lets', 'lets get', 'get started', 'started what', 'what are', 'are some', 'some of', 'of my', 'my least', 'least favorite', 'favorite household', 'household chores', 'chores dishes', 'dishes oh', 'oh yes', \"yes it's\", \"it's definitely\", 'definitely the', 'the dishes', 'dishes i', 'i just', 'just hate', 'hate doing', 'doing them', \"them don't\", \"don't you\", 'you who', 'who is', 'is your', 'your favorite', 'favorite actor', 'actor and', 'and why', 'why hmm', \"hmm that's\", \"that's a\", 'a hard', 'hard one', 'one but', 'but i', 'i think', 'think recently', \"recently i'll\", \"i'll have\", 'have to', 'to go', 'go with', 'with michael', 'michael b', 'b jordan', 'jordan every', 'every bit', 'bit of', 'of that', 'that man', 'man is', 'is handsome', 'handsome handsome', 'handsome do', 'do you', 'you remember', 'remember seeing', 'seeing him', 'him shirtless', 'shirtless i', \"i can't\", \"can't believe\", 'believe what', 'what he', 'he does', 'does for', 'for the', 'the cameras', 'cameras okay', 'okay okay', 'okay next', 'next question', 'question what', 'what is', 'is your', 'your perfect', 'perfect date', 'date well', 'well it', 'it starts', 'starts with', 'with a', 'a nice', 'nice dinner', 'dinner at', 'at a', 'a delicious', 'delicious but', 'but small', 'small restaurant', 'restaurant you', 'you know', 'know like', 'like one', 'one of', 'of those', 'those places', 'places where', 'where the', 'the owner', 'owner is', 'is in', 'in the', 'the back', 'back and', 'and comes', 'comes out', 'out to', 'to talk', 'talk to', 'to you', 'you and', 'and ask', 'ask you', 'you how', 'how your', 'your meal', 'meal was', 'was my', 'my favorite', 'favorite form', 'form of', 'of art', 'art another', 'another hard', 'hard one', 'one but', 'but i', 'i think', \"think i'll\", \"i'll have\", 'have to', 'to go', 'go with', 'with music', 'music music', 'music you', 'you can', 'can feel', 'feel in', 'in your', 'your whole', 'whole body', 'body and', 'and it', 'it is', 'is electrifying', 'electrifying and', 'and best', 'best of', 'of all', 'all you', 'you can', 'can dance', 'dance to', 'to it', 'it okay', 'okay final', 'final question', \"question let's\", \"let's see\", 'see what', 'what are', 'are three', 'three things', 'things you', 'you cannot', 'cannot live', 'live without', 'without well', 'well first', 'first off', 'off my', 'my beautiful', 'beautiful beautiful', 'beautiful cat', 'cat jerry', 'jerry he', 'he is', 'is my', 'my heart', 'heart and', 'and spirit', 'spirit animal', 'animal second', 'second is', 'is pasta', 'pasta definitely', 'definitely pasta', 'pasta and', 'and the', 'the third', 'third i', 'i think', 'think is', 'is my', 'my family', 'family i', 'i love', 'love all', 'all of', 'of them', 'them very', 'very much', 'much and', 'and they', 'they support', 'support me', 'me in', 'in everything', 'everything i', 'i do', 'do i', 'i know', 'know jay', 'jay stacksby', 'stacksby is', 'is a', 'a handsome', 'handsome man', 'man and', 'and all', 'all of', 'of us', 'us want', 'want to', 'to be', 'be the', 'the first', 'first to', 'to walk', 'walk down', 'down the', 'the aisle', 'aisle with', 'with him', 'him but', 'but i', 'i think', 'think he', 'he might', 'might truly', 'truly be', 'be the', 'the one', 'one for', 'for me', 'me okay', \"okay that's\", \"that's it\", 'it for', 'for the', 'the bio', 'bio i', 'i hope', 'hope you', 'you have', 'have fun', 'fun watching', 'watching the', 'the show']\n"
     ]
    }
   ],
   "source": [
    "print(ngram_creator(text_list))   #test function"
   ]
  },
  {
   "cell_type": "markdown",
   "metadata": {},
   "source": [
    "Use `ngram_creator` along with the prepared text to create a list of all the two-word ngrams in each `TextSample`. Use `build_frequency_table` to tabulate the frequency of each ngram. In the constructor for `TextSample` save this frequency table as `self.ngram_frequency`."
   ]
  },
  {
   "cell_type": "code",
   "execution_count": 53,
   "metadata": {},
   "outputs": [
    {
     "name": "stdout",
     "output_type": "stream",
     "text": [
      "{\"hi i'm\": 1, \"i'm lily\": 1, 'lily trebuchet': 1, 'trebuchet from': 1, 'from east': 1, 'east egg': 1, 'egg long': 1, 'long island': 1, 'island i': 1, 'i love': 2, 'love cats': 1, 'cats hiking': 1, 'hiking and': 1, 'and curling': 1, 'curling up': 1, 'up under': 1, 'under a': 1, 'a warm': 1, 'warm blanket': 1, 'blanket with': 1, 'with a': 2, 'a book': 1, 'book so': 1, 'so they': 1, 'they gave': 1, 'gave this': 1, 'this little': 1, 'little questionnaire': 1, 'questionnaire to': 1, 'to use': 1, 'use for': 1, 'for our': 1, 'our bios': 1, 'bios so': 1, 'so lets': 1, 'lets get': 1, 'get started': 1, 'started what': 1, 'what are': 2, 'are some': 1, 'some of': 1, 'of my': 1, 'my least': 1, 'least favorite': 1, 'favorite household': 1, 'household chores': 1, 'chores dishes': 1, 'dishes oh': 1, 'oh yes': 1, \"yes it's\": 1, \"it's definitely\": 1, 'definitely the': 1, 'the dishes': 1, 'dishes i': 1, 'i just': 1, 'just hate': 1, 'hate doing': 1, 'doing them': 1, \"them don't\": 1, \"don't you\": 1, 'you who': 1, 'who is': 1, 'is your': 2, 'your favorite': 1, 'favorite actor': 1, 'actor and': 1, 'and why': 1, 'why hmm': 1, \"hmm that's\": 1, \"that's a\": 1, 'a hard': 1, 'hard one': 2, 'one but': 2, 'but i': 3, 'i think': 4, 'think recently': 1, \"recently i'll\": 1, \"i'll have\": 2, 'have to': 2, 'to go': 2, 'go with': 2, 'with michael': 1, 'michael b': 1, 'b jordan': 1, 'jordan every': 1, 'every bit': 1, 'bit of': 1, 'of that': 1, 'that man': 1, 'man is': 1, 'is handsome': 1, 'handsome handsome': 1, 'handsome do': 1, 'do you': 1, 'you remember': 1, 'remember seeing': 1, 'seeing him': 1, 'him shirtless': 1, 'shirtless i': 1, \"i can't\": 1, \"can't believe\": 1, 'believe what': 1, 'what he': 1, 'he does': 1, 'does for': 1, 'for the': 2, 'the cameras': 1, 'cameras okay': 1, 'okay okay': 1, 'okay next': 1, 'next question': 1, 'question what': 1, 'what is': 1, 'your perfect': 1, 'perfect date': 1, 'date well': 1, 'well it': 1, 'it starts': 1, 'starts with': 1, 'a nice': 1, 'nice dinner': 1, 'dinner at': 1, 'at a': 1, 'a delicious': 1, 'delicious but': 1, 'but small': 1, 'small restaurant': 1, 'restaurant you': 1, 'you know': 1, 'know like': 1, 'like one': 1, 'one of': 1, 'of those': 1, 'those places': 1, 'places where': 1, 'where the': 1, 'the owner': 1, 'owner is': 1, 'is in': 1, 'in the': 1, 'the back': 1, 'back and': 1, 'and comes': 1, 'comes out': 1, 'out to': 1, 'to talk': 1, 'talk to': 1, 'to you': 1, 'you and': 1, 'and ask': 1, 'ask you': 1, 'you how': 1, 'how your': 1, 'your meal': 1, 'meal was': 1, 'was my': 1, 'my favorite': 1, 'favorite form': 1, 'form of': 1, 'of art': 1, 'art another': 1, 'another hard': 1, \"think i'll\": 1, 'with music': 1, 'music music': 1, 'music you': 1, 'you can': 2, 'can feel': 1, 'feel in': 1, 'in your': 1, 'your whole': 1, 'whole body': 1, 'body and': 1, 'and it': 1, 'it is': 1, 'is electrifying': 1, 'electrifying and': 1, 'and best': 1, 'best of': 1, 'of all': 1, 'all you': 1, 'can dance': 1, 'dance to': 1, 'to it': 1, 'it okay': 1, 'okay final': 1, 'final question': 1, \"question let's\": 1, \"let's see\": 1, 'see what': 1, 'are three': 1, 'three things': 1, 'things you': 1, 'you cannot': 1, 'cannot live': 1, 'live without': 1, 'without well': 1, 'well first': 1, 'first off': 1, 'off my': 1, 'my beautiful': 1, 'beautiful beautiful': 1, 'beautiful cat': 1, 'cat jerry': 1, 'jerry he': 1, 'he is': 1, 'is my': 2, 'my heart': 1, 'heart and': 1, 'and spirit': 1, 'spirit animal': 1, 'animal second': 1, 'second is': 1, 'is pasta': 1, 'pasta definitely': 1, 'definitely pasta': 1, 'pasta and': 1, 'and the': 1, 'the third': 1, 'third i': 1, 'think is': 1, 'my family': 1, 'family i': 1, 'love all': 1, 'all of': 2, 'of them': 1, 'them very': 1, 'very much': 1, 'much and': 1, 'and they': 1, 'they support': 1, 'support me': 1, 'me in': 1, 'in everything': 1, 'everything i': 1, 'i do': 1, 'do i': 1, 'i know': 1, 'know jay': 1, 'jay stacksby': 1, 'stacksby is': 1, 'is a': 1, 'a handsome': 1, 'handsome man': 1, 'man and': 1, 'and all': 1, 'of us': 1, 'us want': 1, 'want to': 1, 'to be': 1, 'be the': 2, 'the first': 1, 'first to': 1, 'to walk': 1, 'walk down': 1, 'down the': 1, 'the aisle': 1, 'aisle with': 1, 'with him': 1, 'him but': 1, 'think he': 1, 'he might': 1, 'might truly': 1, 'truly be': 1, 'the one': 1, 'one for': 1, 'for me': 1, 'me okay': 1, \"okay that's\": 1, \"that's it\": 1, 'it for': 1, 'the bio': 1, 'bio i': 1, 'i hope': 1, 'hope you': 1, 'you have': 1, 'have fun': 1, 'fun watching': 1, 'watching the': 1, 'the show': 1}\n"
     ]
    }
   ],
   "source": [
    "ngram_frequency = build_frequency_table(ngram_creator(prepared_text(text)))\n",
    "print(ngram_frequency)\n",
    "#ngram_frequency"
   ]
  },
  {
   "cell_type": "code",
   "execution_count": 54,
   "metadata": {},
   "outputs": [],
   "source": [
    "#Updated TextSample with ngram frequency constructor\n",
    "class TextSample:\n",
    "  x = get_average_sentence_length(murder_note)  \n",
    "\n",
    "  def __init__(self, text, author):\n",
    "    self.raw_text = text\n",
    "    self.author = author\n",
    "    self.average_sentence_length = get_average_sentence_length(text)\n",
    "    self.prepared_text = prepared_text(text)   #cleans text for analysis\n",
    "    self.word_count_frequency = build_frequency_table(prepared_text(text))   #{counts frequency of words in each text sample}\n",
    "    self.ngram_frequency = build_frequency_table(ngram_creator(prepared_text(text)))  #{counts frequency of ngams in each text sample}\n",
    "        \n",
    "  def __repr__(self):\n",
    "    return \"Author name is {} with an average sentence length of {} words.\".format(self.author.title(), \"{0:.2f}\".format(self.average_sentence_length))"
   ]
  },
  {
   "cell_type": "code",
   "execution_count": 55,
   "metadata": {},
   "outputs": [],
   "source": [
    "murderer_sample = TextSample(murder_note, \"murderer\")\n",
    "lily_sample = TextSample(lily_trebuchet_intro, \"lily\")\n",
    "myrtle_sample = TextSample(myrtle_beech_intro, \"myrtle\")\n",
    "gregg_sample = TextSample(gregg_t_fishy_intro, \"gregg\")"
   ]
  },
  {
   "cell_type": "code",
   "execution_count": 56,
   "metadata": {},
   "outputs": [
    {
     "data": {
      "text/plain": [
       "Author name is Murderer with an average sentence length of 22.07 words."
      ]
     },
     "execution_count": 56,
     "metadata": {},
     "output_type": "execute_result"
    }
   ],
   "source": [
    "murderer_sample"
   ]
  },
  {
   "cell_type": "code",
   "execution_count": 57,
   "metadata": {},
   "outputs": [
    {
     "data": {
      "text/plain": [
       "Author name is Lily with an average sentence length of 15.84 words."
      ]
     },
     "execution_count": 57,
     "metadata": {},
     "output_type": "execute_result"
    }
   ],
   "source": [
    "lily_sample"
   ]
  },
  {
   "cell_type": "code",
   "execution_count": 58,
   "metadata": {},
   "outputs": [
    {
     "data": {
      "text/plain": [
       "Author name is Myrtle with an average sentence length of 6.75 words."
      ]
     },
     "execution_count": 58,
     "metadata": {},
     "output_type": "execute_result"
    }
   ],
   "source": [
    "myrtle_sample"
   ]
  },
  {
   "cell_type": "code",
   "execution_count": 59,
   "metadata": {},
   "outputs": [
    {
     "data": {
      "text/plain": [
       "Author name is Gregg with an average sentence length of 21.30 words."
      ]
     },
     "execution_count": 59,
     "metadata": {},
     "output_type": "execute_result"
    }
   ],
   "source": [
    "gregg_sample"
   ]
  },
  {
   "cell_type": "markdown",
   "metadata": {},
   "source": [
    "## Comparing Two Frequency Tables\n",
    "\n",
    "We want to know how similar two frequency tables are, let's write a function that computes the comparison between two frequency tables and scores them based on similarity.\n",
    "\n",
    "Write a function called `frequency_comparison` that takes two parameters, `table1` and `table2`. It should define two local variables, `appearances` and `mutual_appearances`. \n",
    "\n",
    "Iterate through `table1`'s keys and check if `table2` has the same key defined. If it is, compare the two values for the key -- the smaller value should get added to `mutual_appearances` and the larger should get added to `appearances`. If the key doesn't exist in `table2` the value for the key in `table1` should be added to `appearances`.\n",
    "\n",
    "Remember afterwards to iterate through all of `table2`'s keys that aren't in `table1` and add those to `appearances` as well.\n",
    "\n",
    "Return a frequency comparison score equal to the mutual appearances divided by the total appearances."
   ]
  },
  {
   "cell_type": "code",
   "execution_count": 60,
   "metadata": {},
   "outputs": [],
   "source": [
    "def frequency_comparison(table1, table2):\n",
    "  appearances = 0\n",
    "  mutual_appearances = 0\n",
    "    \n",
    "  match = [elements for elements in table1 if elements in table2]\n",
    "\n",
    "  for items in match:\n",
    "    if table1[items]>=table2[items]:\n",
    "      appearances+=table1[items]\n",
    "      mutual_appearances+=table2[items]\n",
    "\n",
    "    if table1[items]<table2[items]:\n",
    "      appearances+=table2[items]\n",
    "      mutual_appearances+=table1[items]\n",
    "           \n",
    "  appearances+=sum([table1[items] for items in table1 if items not in match])\n",
    "  mutual_appearances+=sum([table2[items] for items in table2 if items not in match])\n",
    "  frequency_comparison_score = mutual_appearances/appearances\n",
    "  return frequency_comparison_score"
   ]
  },
  {
   "cell_type": "code",
   "execution_count": 61,
   "metadata": {},
   "outputs": [
    {
     "data": {
      "text/plain": [
       "0.6898395721925134"
      ]
     },
     "execution_count": 61,
     "metadata": {},
     "output_type": "execute_result"
    }
   ],
   "source": [
    "table1 = build_frequency_table(prepared_text(murder_note))\n",
    "table2 = build_frequency_table(prepared_text(text))\n",
    "frequency_comparison(table1, table2)"
   ]
  },
  {
   "cell_type": "markdown",
   "metadata": {},
   "source": [
    "## Comparing Average Sentence Length\n",
    "\n",
    "In order to calculate the change between the average sentence lengths of two `TextSamples` we're going to use the formula for the percent difference.\n",
    "\n",
    "Write a function called `percent_difference` that returns the percent difference as calculated from the following formula:\n",
    "\n",
    "$$\\frac{|\\ value1 - value2\\ |}{\\frac{value1 + value2}{2}}$$\n",
    "\n",
    "In the numerator is the absolute value (use `abs()`) of the two values subtracted from each other. In the denominator is the average of the two values (value1 + value2 divided by two)."
   ]
  },
  {
   "cell_type": "code",
   "execution_count": 62,
   "metadata": {},
   "outputs": [],
   "source": [
    "def percent_difference(TextSamples1, TextSamples2):\n",
    "  return abs(TextSamples1 - TextSamples2)/(((TextSamples1 + TextSamples2)/2))"
   ]
  },
  {
   "cell_type": "code",
   "execution_count": 63,
   "metadata": {},
   "outputs": [
    {
     "data": {
      "text/plain": [
       "0.3283968900407256"
      ]
     },
     "execution_count": 63,
     "metadata": {},
     "output_type": "execute_result"
    }
   ],
   "source": [
    "TextSamples1 = get_average_sentence_length(murder_note)\n",
    "TextSamples2 = get_average_sentence_length(text)\n",
    "percent_difference(TextSamples1, TextSamples2)"
   ]
  },
  {
   "cell_type": "markdown",
   "metadata": {},
   "source": [
    "## Scoring Similarity with All Three Indicators\n",
    "\n",
    "We want to figure out who did it, so let's use all three of the indicators we built to score text similarity. Define a function `find_text_similarity` that takes two `TextSample` arguments and returns a float between 0 and 1 where 0 means completely different and 1 means the same exact sample. You can evaluate the similarity by the following criteria:\n",
    "\n",
    "- Calculate the percent difference of their average sentence length using `percent_difference`. Save that into a variable called `sentence_length_difference`. Since we want to find how _similar_ the two passages are calculate the inverse of `sentence_length_difference` by using the formula `abs(1 - sentence_length_difference)`. Save that into a variable called `sentence_length_similarity`.\n",
    "- Calculate the difference between their word usage using `frequency_comparison` on both `TextSample`'s `word_count_frequency` attributes. Save that into a variable called `word_count_similarity`.\n",
    "- Calculate the difference between their two-word ngram using `frequency_table` on both `TextSample`'s `ngram_frequency` attributes. Save that into a variable called `ngram_similarity`.\n",
    "- Add all three similarities together and divide by 3."
   ]
  },
  {
   "cell_type": "code",
   "execution_count": 150,
   "metadata": {},
   "outputs": [
    {
     "data": {
      "text/plain": [
       "0.7201303646384242"
      ]
     },
     "execution_count": 150,
     "metadata": {},
     "output_type": "execute_result"
    }
   ],
   "source": [
    "#TextSample1 = get_average_sentence_length(murder_note)\n",
    "#TextSample2 = get_average_sentence_length(text)\n",
    "\n",
    "#option = [MN, LT, MB, GT]\n",
    "#for text in option:\n",
    "  #TextSample2 = get_average_sentence_length(text)\n",
    "\n",
    "#TextSample2 = get_average_sentence_length(GT)\n",
    "\n",
    "#table1 = build_frequency_table(prepared_text(MN))\n",
    "#table2 = build_frequency_table(prepared_text(LT))\n",
    "\n",
    "#ngram_frequency1 = ngram_creator(prepared_text(MN))\n",
    "#ngram_frequency2 = ngram_creator(prepared_text(LT))\n",
    "\n",
    "def find_text_similarity(TextSample1, TextSample2):\n",
    "  #Calculate % difference of average sentence length of author note with murder note\n",
    "  sentence_length_difference = percent_difference(TextSample1, TextSample2)\n",
    "  sentence_length_similarity = abs(1 - sentence_length_difference)\n",
    "  #print(sentence_length_similarity)\n",
    "\n",
    "  #Calculate word usage difference of author note with murder note\n",
    "  table1 = build_frequency_table(prepared_text(murder_note))\n",
    "  table2 = build_frequency_table(prepared_text(text))\n",
    "  word_count_similarity = frequency_comparison(table1, table2)\n",
    "  #print(word_count_similarity)\n",
    "\n",
    "  #Calculate ngram usage difference of author note with murder note\n",
    "  ngram_frequency1 = build_frequency_table(ngram_creator(prepared_text(murder_note)))\n",
    "  ngram_frequency2 = build_frequency_table(ngram_creator(prepared_text(text)))    \n",
    "  ngram_similarity = frequency_comparison(ngram_frequency1, ngram_frequency2)\n",
    "  #print(ngram_similarity)\n",
    "\n",
    "  #Calculate score - higher is better\n",
    "  similarity_score = (sentence_length_similarity + float(word_count_similarity) + float(ngram_similarity))/3\n",
    "  #print(similarity_score)\n",
    "  return similarity_score\n",
    "\n",
    "find_text_similarity(TextSample1, TextSample2)"
   ]
  },
  {
   "cell_type": "markdown",
   "metadata": {},
   "source": [
    "## Rendering the Results\n",
    "\n",
    "We want to print out the results in a way that we can read! For each contestant on _A Brand New Jay_ print out the following:\n",
    "\n",
    "- Their name\n",
    "- Their similarity score to the murder letter"
   ]
  },
  {
   "cell_type": "code",
   "execution_count": 153,
   "metadata": {},
   "outputs": [
    {
     "name": "stdout",
     "output_type": "stream",
     "text": [
      "Lily has a similarity score of 0.7511 to the murder letter.\n",
      "Myrtle has a similarity score of 0.3784 to the murder letter.\n",
      "Gregg has a similarity score of 0.7201 to the murder letter.\n"
     ]
    }
   ],
   "source": [
    "TextSample1 = get_average_sentence_length(murder_note)\n",
    "option = [lily_trebuchet_intro, myrtle_beech_intro, gregg_t_fishy_intro]\n",
    "author = [\"lily\", \"myrtle\", \"gregg\"]\n",
    "samples = [lily_sample, myrtle_sample, gregg_sample]\n",
    "score_table = {}\n",
    "for i in range(0,len(option)):\n",
    "  text = option[i]\n",
    "  TextSample2 = get_average_sentence_length(text)\n",
    "  table2 = build_frequency_table(prepared_text(text))\n",
    "  ngram_frequency2 = build_frequency_table(ngram_creator(prepared_text(text)))\n",
    "\n",
    "  score = find_text_similarity(TextSample1, TextSample2)\n",
    "  score_table[author[i]] = score\n",
    "  print(author[i].title() + \" has a similarity score of \" + str(\"{0:.4f}\".format(score)) + \" to the murder letter.\")"
   ]
  },
  {
   "cell_type": "code",
   "execution_count": 154,
   "metadata": {},
   "outputs": [
    {
     "name": "stdout",
     "output_type": "stream",
     "text": [
      "{'lily': 0.7511115246812267, 'myrtle': 0.37841442684266946, 'gregg': 0.7201303646384242}\n"
     ]
    }
   ],
   "source": [
    "print(score_table)"
   ]
  },
  {
   "cell_type": "markdown",
   "metadata": {},
   "source": [
    "# Who Dunnit?\n",
    "\n",
    "In the cell below, print the name of the person who killed Jay Stacksby."
   ]
  },
  {
   "cell_type": "code",
   "execution_count": 155,
   "metadata": {},
   "outputs": [
    {
     "name": "stdout",
     "output_type": "stream",
     "text": [
      "Lily is the person who killed Jay Stacksby.\n"
     ]
    }
   ],
   "source": [
    "key = max(score_table, key = lambda k:score_table[k])\n",
    "print(key.title() + \" is the person who killed Jay Stacksby.\")"
   ]
  },
  {
   "cell_type": "code",
   "execution_count": null,
   "metadata": {},
   "outputs": [],
   "source": []
  }
 ],
 "metadata": {
  "kernelspec": {
   "display_name": "Python 3",
   "language": "python",
   "name": "python3"
  },
  "language_info": {
   "codemirror_mode": {
    "name": "ipython",
    "version": 3
   },
   "file_extension": ".py",
   "mimetype": "text/x-python",
   "name": "python",
   "nbconvert_exporter": "python",
   "pygments_lexer": "ipython3",
   "version": "3.6.5"
  }
 },
 "nbformat": 4,
 "nbformat_minor": 2
}
